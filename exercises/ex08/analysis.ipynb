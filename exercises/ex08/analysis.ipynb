{
 "cells": [
  {
   "cell_type": "markdown",
   "metadata": {},
   "source": [
    "# Analysis for Continuous Improvement\n",
    "\n",
    "Author Name: Michelle Le \n",
    "\n",
    "9-digit PID: 730407722\n",
    "\n",
    "Continuous Improvement embraces a belief there is _always room to make things better_. It is a mindset and process we value and practice in this course. In this assignment, you are able to practice continuous improvement and contribute to the design ideas of the course.\n",
    "\n",
    "## Brainstorming Ideas\n",
    "\n",
    "Reflect on your personal experiences and observations in COMP110 and **brainstorm modifications to the course that _create value_ beyond its current design**. When brainstorming, try not to be critical of the ideas you come up with regarding scale, stakeholders impacted, or for any other reasons. In the markdown cell below, brainstorm 3 to 5 ideas you think would create value for you.\n",
    "\n",
    "Each brainstormed idea should state a. the suggested change or addition, b. what the expected value created, and c. which specific stakeholders would benefit.  If helpful, expand on the following template \"The course should (state idea here) because it will (state value created here) for (insert stakeholders here).\"\n",
    "\n",
    "Example A: \"The course should use only examples from psychology experiments because it will be more relevant for students who are psychology majors.\"\n",
    "\n",
    "Example B: \"The course should not have post-lesson questions because they are not useful for most students in the class.\""
   ]
  },
  {
   "cell_type": "markdown",
   "metadata": {},
   "source": [
    "### Part 1. Creative Ideation\n",
    "\n",
    "1. The course should place an emphasis on in-person synchronous classes because it would be more useful and beneficial in learning for students who have less coding experience and struggle with the class\n",
    "2.  The course should provide more coding exercises because it provides more resources and practice for students who don't understand course material, as well as how to code as well due to not having any prior experience\n",
    "3. The course should use more medical and biological data examples because it would be more helpful and applicable for biolgy majors  \n",
    "4. This course should offer more office hour slots (some online) because it would be more helpful and accommodating for students who need help with exercises and concepts \n",
    "5. This course should allow extra credit exercises because it would help boost grades for students who find coding fun, and also for those who are struggling and need help "
   ]
  },
  {
   "cell_type": "markdown",
   "metadata": {},
   "source": [
    "## Connecting with Available Data\n",
    "\n",
    "The data you have available for this analysis is limited to the anonymized course survey you and your peers filled out a few weeks ago. The data is found in the `survey.csv` file in this exercise directory. Each row represents an individual survey response. Each column has a description which can be found on the project write-up here: <https://22s.comp110.com/exercises/ex08.html>\n",
    "\n",
    "Review the list of available data and identify which one of your ideas _does not_, or is _least likely to_, have relevant data to support the analysis of your idea to create value. In the box below, identify which of your ideas lacks data and suggest how we might be able to collect this data in the future. One aspect of _continuous improvement_ is trying to avoid \"tunnel vision\" where possible improvements are not considered because there is no data available to analyze it. Identifying new data sources can unlock improvements!"
   ]
  },
  {
   "cell_type": "markdown",
   "metadata": {},
   "source": [
    "### Part 2. Identifying Missing Data\n",
    "\n",
    "1. Idea without sufficient data to analyze:\n",
    "- This course should allow extra credit exercises because it would help boost grades for students who find coding fun, and also for those who are struggling and need help \n",
    "\n",
    "2. Suggestion for how to collect data to support this idea in the future: \n",
    "- Collect data on people who code outside of class, collect data on how well students are doing in class, data on students who believe there should be extra credit/work, data on students who believe there is an insufficient amount of work/point opportunities \n"
   ]
  },
  {
   "cell_type": "markdown",
   "metadata": {},
   "source": [
    "## Choosing an Idea to Analyze\n",
    "\n",
    "Consider those of your ideas which _do_ seem likely to have relevant data to analyze. If none of your ideas do, spend a few minutes and brainstorm another idea or two with the added connection of data available on hand and add those ideas to your brainstormed ideas list.\n",
    "\n",
    "Select the one idea which you believe is _most valuable_ to analyze relative to the others and has data to support the analysis of. In the markdown cell for Part 3 below, identify the idea you are exploring and articulate why you believe it is most valuable (e.g. widest impact, biggest opportunity for improvement, simplest change for significant improvement, and so on)."
   ]
  },
  {
   "cell_type": "markdown",
   "metadata": {},
   "source": [
    "### Part 3. Choosing Your Analysis\n",
    "\n",
    "1. Idea to analyze with available data:\n",
    " - The course should provide more coding exercises because it provides more resources and practice for students who don't understand course material, as well as how to code as well due to not having any prior experience\n",
    "2. This idea is more valuable than the others brainstormed because: \n",
    "- This data is more valueable, because it would show a reason why many students in the course are struggling with the material, as well as offer a solution to potentially fix this problem. I would use the data collected from prior_exp to gauge how much students have coded before taking this course, and then also use the data collected from understanding to see how much students are faring in the course and how much they're understanding the content. By taking an average values of the inputs people put for understanding who also said they have less prior experience we can gauge if low exposure to coding and less practice is what is making students not understanding, and not doing well. If a high number of people who are struggling in this class are saying they do not have much coding experience that would imply the abrupt exposure to coding exercises and concepts is not helping them succeed in the class, and giving out more coding examples and exercises that could be optional or just practices in general could help them understand content more. \n",
    "I believe this idea could be the most helpful for students to get more help and resources that they need, as well as for the comp110 staff to make the course better. It is a simple change that may lead to a significant improvement. "
   ]
  },
  {
   "cell_type": "markdown",
   "metadata": {},
   "source": [
    "## Your Analysis\n",
    "\n",
    "Before you begin analysis, a reminder that we do not expect the data to support everyone's ideas and you can complete this exercise for full credit even if the data does not clearly support your suggestion or even completely refutes it. What we are looking for is a logical attempt to explore the data using the techniques you have learned up until now in a way that _either_ supports, refutes, or does not have a clear result and then to reflect on your findings after the analysis.\n",
    "\n",
    "Using the utility functions you created for the previous exercise, you will continue with your analysis in the following part. Before you begin, refer to the rubric on the technical expectations of this section in the exercise write-up.\n",
    "\n",
    "In this section, you are expected to interleave code and markdown cells such that for each step of your analysis you are starting with an English description of what you are planning to do next in a markdown cell, followed by a Python cell that performs that step of the analysis."
   ]
  },
  {
   "cell_type": "markdown",
   "metadata": {},
   "source": [
    "### Part 4. Analysis\n",
    "\n",
    "We begin by changing some settings in the notebook to automatically reload changes to imported files."
   ]
  },
  {
   "cell_type": "code",
   "execution_count": 15,
   "metadata": {},
   "outputs": [],
   "source": [
    "%reload_ext autoreload\n",
    "%autoreload 2"
   ]
  },
  {
   "cell_type": "markdown",
   "metadata": {},
   "source": [
    "We continue by importing the helper functions from `data_utils`."
   ]
  },
  {
   "cell_type": "code",
   "execution_count": 16,
   "metadata": {},
   "outputs": [],
   "source": [
    "from data_utils import read_csv_rows\n",
    "from data_utils import columnar\n",
    "from tabulate import tabulate\n",
    "from data_utils import head\n",
    "from data_utils import select\n",
    "from data_utils import count\n",
    "from data_utils import filter\n",
    "from data_utils import mask\n",
    "from data_utils import mean\n",
    "from matplotlib import pyplot as plt"
   ]
  },
  {
   "cell_type": "markdown",
   "metadata": {},
   "source": [
    "Next, ... (you take it from here and add additional code and markdown cells to read in the CSV file and process it as needed)"
   ]
  },
  {
   "cell_type": "code",
   "execution_count": 17,
   "metadata": {},
   "outputs": [],
   "source": [
    "SURVEY_DATA_CSV_FILE_PATH: str = \"../../data/survey.csv\""
   ]
  },
  {
   "cell_type": "markdown",
   "metadata": {},
   "source": [
    "In order to carry out this hypothesis, we must first be able to read the csv file by using the function `read_csv_rows`"
   ]
  },
  {
   "cell_type": "code",
   "execution_count": 18,
   "metadata": {},
   "outputs": [],
   "source": [
    "data_rows: list[dict[str, str]] = read_csv_rows(SURVEY_DATA_CSV_FILE_PATH)\n"
   ]
  },
  {
   "cell_type": "markdown",
   "metadata": {},
   "source": [
    "Next, I use the function `columnar` in order to sort our data into columns; the names of each question would be inputted intot these columns, with the rows acting as the response."
   ]
  },
  {
   "cell_type": "code",
   "execution_count": 19,
   "metadata": {},
   "outputs": [
    {
     "name": "stdout",
     "output_type": "stream",
     "text": [
      "35 columns\n",
      "620 rows\n",
      "Columns names: dict_keys(['row', 'year', 'unc_status', 'comp_major', 'primary_major', 'data_science', 'prereqs', 'prior_exp', 'ap_principles', 'ap_a', 'other_comp', 'prior_time', 'languages', 'hours_online_social', 'hours_online_work', 'lesson_time', 'sync_perf', 'all_sync', 'flipped_class', 'no_hybrid', 'own_notes', 'own_examples', 'oh_visits', 'ls_effective', 'lsqs_effective', 'programming_effective', 'qz_effective', 'oh_effective', 'tutoring_effective', 'pace', 'difficulty', 'understanding', 'interesting', 'valuable', 'would_recommend'])\n"
     ]
    }
   ],
   "source": [
    "data_cols: dict[str, list[str]] = columnar(data_rows)\n",
    "\n",
    "if len(data_cols.keys()) == 0:\n",
    "    print(\"Complete your implementation of columnar in data_utils.py\")\n",
    "    print(\"Be sure to follow the guidelines above and save your work before re-evaluating!\")\n",
    "else:\n",
    "    print(f\"{len(data_cols.keys())} columns\")\n",
    "    print(f\"{len(data_cols['prior_exp'])} rows\")\n",
    "    print(f\"Columns names: {data_cols.keys()}\")"
   ]
  },
  {
   "cell_type": "markdown",
   "metadata": {},
   "source": [
    "We use the `head` function to produce a new column based table from previous sorting in `columnar`"
   ]
  },
  {
   "cell_type": "code",
   "execution_count": 20,
   "metadata": {},
   "outputs": [
    {
     "data": {
      "text/html": [
       "<table>\n",
       "<thead>\n",
       "<tr><th style=\"text-align: right;\">  row</th><th style=\"text-align: right;\">  year</th><th>unc_status                 </th><th>comp_major  </th><th>primary_major   </th><th>data_science  </th><th>prereqs                     </th><th>prior_exp                   </th><th>ap_principles  </th><th>ap_a  </th><th>other_comp                      </th><th>prior_time                  </th><th>languages               </th><th>hours_online_social  </th><th>hours_online_work  </th><th style=\"text-align: right;\">  lesson_time</th><th style=\"text-align: right;\">  sync_perf</th><th style=\"text-align: right;\">  all_sync</th><th style=\"text-align: right;\">  flipped_class</th><th style=\"text-align: right;\">  no_hybrid</th><th style=\"text-align: right;\">  own_notes</th><th style=\"text-align: right;\">  own_examples</th><th style=\"text-align: right;\">  oh_visits</th><th style=\"text-align: right;\">  ls_effective</th><th style=\"text-align: right;\">  lsqs_effective</th><th style=\"text-align: right;\">  programming_effective</th><th style=\"text-align: right;\">  qz_effective</th><th>oh_effective  </th><th>tutoring_effective  </th><th style=\"text-align: right;\">  pace</th><th style=\"text-align: right;\">  difficulty</th><th style=\"text-align: right;\">  understanding</th><th style=\"text-align: right;\">  interesting</th><th style=\"text-align: right;\">  valuable</th><th style=\"text-align: right;\">  would_recommend</th></tr>\n",
       "</thead>\n",
       "<tbody>\n",
       "<tr><td style=\"text-align: right;\">    0</td><td style=\"text-align: right;\">    22</td><td>Returning UNC Student      </td><td>No          </td><td>Mathematics     </td><td>No            </td><td>MATH 233, MATH 347, MATH 381</td><td>7-12 months                 </td><td>No             </td><td>No    </td><td>UNC                             </td><td>1 month or so               </td><td>Python, R / Matlab / SAS</td><td>3 to 5 hours         </td><td>0 to 2 hours       </td><td style=\"text-align: right;\">            6</td><td style=\"text-align: right;\">          2</td><td style=\"text-align: right;\">         2</td><td style=\"text-align: right;\">              1</td><td style=\"text-align: right;\">          2</td><td style=\"text-align: right;\">          4</td><td style=\"text-align: right;\">             4</td><td style=\"text-align: right;\">          0</td><td style=\"text-align: right;\">             7</td><td style=\"text-align: right;\">               3</td><td style=\"text-align: right;\">                      7</td><td style=\"text-align: right;\">             5</td><td>              </td><td>                    </td><td style=\"text-align: right;\">     1</td><td style=\"text-align: right;\">           1</td><td style=\"text-align: right;\">              7</td><td style=\"text-align: right;\">            5</td><td style=\"text-align: right;\">         6</td><td style=\"text-align: right;\">                5</td></tr>\n",
       "<tr><td style=\"text-align: right;\">    1</td><td style=\"text-align: right;\">    25</td><td>Returning UNC Student      </td><td>No          </td><td>Mathematics     </td><td>Yes           </td><td>MATH 130, MATH 231, STOR 155</td><td>None to less than one month!</td><td>               </td><td>      </td><td>                                </td><td>                            </td><td>                        </td><td>0 to 2 hours         </td><td>5 to 10 hours      </td><td style=\"text-align: right;\">            4</td><td style=\"text-align: right;\">          3</td><td style=\"text-align: right;\">         3</td><td style=\"text-align: right;\">              1</td><td style=\"text-align: right;\">          2</td><td style=\"text-align: right;\">          6</td><td style=\"text-align: right;\">             4</td><td style=\"text-align: right;\">          5</td><td style=\"text-align: right;\">             5</td><td style=\"text-align: right;\">               5</td><td style=\"text-align: right;\">                      5</td><td style=\"text-align: right;\">             5</td><td>7             </td><td>6                   </td><td style=\"text-align: right;\">     6</td><td style=\"text-align: right;\">           6</td><td style=\"text-align: right;\">              3</td><td style=\"text-align: right;\">            4</td><td style=\"text-align: right;\">         6</td><td style=\"text-align: right;\">                4</td></tr>\n",
       "<tr><td style=\"text-align: right;\">    2</td><td style=\"text-align: right;\">    25</td><td>Incoming First-year Student</td><td>Yes - BA    </td><td>Computer Science</td><td>No            </td><td>MATH 130, MATH 152, MATH 210</td><td>None to less than one month!</td><td>               </td><td>      </td><td>                                </td><td>                            </td><td>                        </td><td>3 to 5 hours         </td><td>5 to 10 hours      </td><td style=\"text-align: right;\">            3</td><td style=\"text-align: right;\">          3</td><td style=\"text-align: right;\">         4</td><td style=\"text-align: right;\">              2</td><td style=\"text-align: right;\">          1</td><td style=\"text-align: right;\">          7</td><td style=\"text-align: right;\">             7</td><td style=\"text-align: right;\">          2</td><td style=\"text-align: right;\">             5</td><td style=\"text-align: right;\">               6</td><td style=\"text-align: right;\">                      7</td><td style=\"text-align: right;\">             7</td><td>4             </td><td>                    </td><td style=\"text-align: right;\">     6</td><td style=\"text-align: right;\">           4</td><td style=\"text-align: right;\">              6</td><td style=\"text-align: right;\">            7</td><td style=\"text-align: right;\">         7</td><td style=\"text-align: right;\">                7</td></tr>\n",
       "<tr><td style=\"text-align: right;\">    3</td><td style=\"text-align: right;\">    24</td><td>Returning UNC Student      </td><td>Yes - BS    </td><td>Computer Science</td><td>Maybe         </td><td>MATH 231, MATH 232, STOR 155</td><td>2-6 months                  </td><td>No             </td><td>No    </td><td>High school course (IB or other)</td><td>None to less than one month!</td><td>Python                  </td><td>3 to 5 hours         </td><td>3 to 5 hours       </td><td style=\"text-align: right;\">            5</td><td style=\"text-align: right;\">          5</td><td style=\"text-align: right;\">         4</td><td style=\"text-align: right;\">              3</td><td style=\"text-align: right;\">          3</td><td style=\"text-align: right;\">          6</td><td style=\"text-align: right;\">             5</td><td style=\"text-align: right;\">          1</td><td style=\"text-align: right;\">             6</td><td style=\"text-align: right;\">               3</td><td style=\"text-align: right;\">                      5</td><td style=\"text-align: right;\">             5</td><td>5             </td><td>4                   </td><td style=\"text-align: right;\">     4</td><td style=\"text-align: right;\">           4</td><td style=\"text-align: right;\">              5</td><td style=\"text-align: right;\">            6</td><td style=\"text-align: right;\">         6</td><td style=\"text-align: right;\">                6</td></tr>\n",
       "<tr><td style=\"text-align: right;\">    4</td><td style=\"text-align: right;\">    25</td><td>Incoming First-year Student</td><td>Yes - BA    </td><td>Computer Science</td><td>No            </td><td>MATH 130                    </td><td>None to less than one month!</td><td>               </td><td>      </td><td>                                </td><td>                            </td><td>                        </td><td>0 to 2 hours         </td><td>3 to 5 hours       </td><td style=\"text-align: right;\">            7</td><td style=\"text-align: right;\">          3</td><td style=\"text-align: right;\">         3</td><td style=\"text-align: right;\">              3</td><td style=\"text-align: right;\">          2</td><td style=\"text-align: right;\">          6</td><td style=\"text-align: right;\">             3</td><td style=\"text-align: right;\">          5</td><td style=\"text-align: right;\">             6</td><td style=\"text-align: right;\">               6</td><td style=\"text-align: right;\">                      6</td><td style=\"text-align: right;\">             6</td><td>7             </td><td>3                   </td><td style=\"text-align: right;\">     6</td><td style=\"text-align: right;\">           5</td><td style=\"text-align: right;\">              5</td><td style=\"text-align: right;\">            6</td><td style=\"text-align: right;\">         6</td><td style=\"text-align: right;\">                7</td></tr>\n",
       "</tbody>\n",
       "</table>"
      ],
      "text/plain": [
       "'<table>\\n<thead>\\n<tr><th style=\"text-align: right;\">  row</th><th style=\"text-align: right;\">  year</th><th>unc_status                 </th><th>comp_major  </th><th>primary_major   </th><th>data_science  </th><th>prereqs                     </th><th>prior_exp                   </th><th>ap_principles  </th><th>ap_a  </th><th>other_comp                      </th><th>prior_time                  </th><th>languages               </th><th>hours_online_social  </th><th>hours_online_work  </th><th style=\"text-align: right;\">  lesson_time</th><th style=\"text-align: right;\">  sync_perf</th><th style=\"text-align: right;\">  all_sync</th><th style=\"text-align: right;\">  flipped_class</th><th style=\"text-align: right;\">  no_hybrid</th><th style=\"text-align: right;\">  own_notes</th><th style=\"text-align: right;\">  own_examples</th><th style=\"text-align: right;\">  oh_visits</th><th style=\"text-align: right;\">  ls_effective</th><th style=\"text-align: right;\">  lsqs_effective</th><th style=\"text-align: right;\">  programming_effective</th><th style=\"text-align: right;\">  qz_effective</th><th>oh_effective  </th><th>tutoring_effective  </th><th style=\"text-align: right;\">  pace</th><th style=\"text-align: right;\">  difficulty</th><th style=\"text-align: right;\">  understanding</th><th style=\"text-align: right;\">  interesting</th><th style=\"text-align: right;\">  valuable</th><th style=\"text-align: right;\">  would_recommend</th></tr>\\n</thead>\\n<tbody>\\n<tr><td style=\"text-align: right;\">    0</td><td style=\"text-align: right;\">    22</td><td>Returning UNC Student      </td><td>No          </td><td>Mathematics     </td><td>No            </td><td>MATH 233, MATH 347, MATH 381</td><td>7-12 months                 </td><td>No             </td><td>No    </td><td>UNC                             </td><td>1 month or so               </td><td>Python, R / Matlab / SAS</td><td>3 to 5 hours         </td><td>0 to 2 hours       </td><td style=\"text-align: right;\">            6</td><td style=\"text-align: right;\">          2</td><td style=\"text-align: right;\">         2</td><td style=\"text-align: right;\">              1</td><td style=\"text-align: right;\">          2</td><td style=\"text-align: right;\">          4</td><td style=\"text-align: right;\">             4</td><td style=\"text-align: right;\">          0</td><td style=\"text-align: right;\">             7</td><td style=\"text-align: right;\">               3</td><td style=\"text-align: right;\">                      7</td><td style=\"text-align: right;\">             5</td><td>              </td><td>                    </td><td style=\"text-align: right;\">     1</td><td style=\"text-align: right;\">           1</td><td style=\"text-align: right;\">              7</td><td style=\"text-align: right;\">            5</td><td style=\"text-align: right;\">         6</td><td style=\"text-align: right;\">                5</td></tr>\\n<tr><td style=\"text-align: right;\">    1</td><td style=\"text-align: right;\">    25</td><td>Returning UNC Student      </td><td>No          </td><td>Mathematics     </td><td>Yes           </td><td>MATH 130, MATH 231, STOR 155</td><td>None to less than one month!</td><td>               </td><td>      </td><td>                                </td><td>                            </td><td>                        </td><td>0 to 2 hours         </td><td>5 to 10 hours      </td><td style=\"text-align: right;\">            4</td><td style=\"text-align: right;\">          3</td><td style=\"text-align: right;\">         3</td><td style=\"text-align: right;\">              1</td><td style=\"text-align: right;\">          2</td><td style=\"text-align: right;\">          6</td><td style=\"text-align: right;\">             4</td><td style=\"text-align: right;\">          5</td><td style=\"text-align: right;\">             5</td><td style=\"text-align: right;\">               5</td><td style=\"text-align: right;\">                      5</td><td style=\"text-align: right;\">             5</td><td>7             </td><td>6                   </td><td style=\"text-align: right;\">     6</td><td style=\"text-align: right;\">           6</td><td style=\"text-align: right;\">              3</td><td style=\"text-align: right;\">            4</td><td style=\"text-align: right;\">         6</td><td style=\"text-align: right;\">                4</td></tr>\\n<tr><td style=\"text-align: right;\">    2</td><td style=\"text-align: right;\">    25</td><td>Incoming First-year Student</td><td>Yes - BA    </td><td>Computer Science</td><td>No            </td><td>MATH 130, MATH 152, MATH 210</td><td>None to less than one month!</td><td>               </td><td>      </td><td>                                </td><td>                            </td><td>                        </td><td>3 to 5 hours         </td><td>5 to 10 hours      </td><td style=\"text-align: right;\">            3</td><td style=\"text-align: right;\">          3</td><td style=\"text-align: right;\">         4</td><td style=\"text-align: right;\">              2</td><td style=\"text-align: right;\">          1</td><td style=\"text-align: right;\">          7</td><td style=\"text-align: right;\">             7</td><td style=\"text-align: right;\">          2</td><td style=\"text-align: right;\">             5</td><td style=\"text-align: right;\">               6</td><td style=\"text-align: right;\">                      7</td><td style=\"text-align: right;\">             7</td><td>4             </td><td>                    </td><td style=\"text-align: right;\">     6</td><td style=\"text-align: right;\">           4</td><td style=\"text-align: right;\">              6</td><td style=\"text-align: right;\">            7</td><td style=\"text-align: right;\">         7</td><td style=\"text-align: right;\">                7</td></tr>\\n<tr><td style=\"text-align: right;\">    3</td><td style=\"text-align: right;\">    24</td><td>Returning UNC Student      </td><td>Yes - BS    </td><td>Computer Science</td><td>Maybe         </td><td>MATH 231, MATH 232, STOR 155</td><td>2-6 months                  </td><td>No             </td><td>No    </td><td>High school course (IB or other)</td><td>None to less than one month!</td><td>Python                  </td><td>3 to 5 hours         </td><td>3 to 5 hours       </td><td style=\"text-align: right;\">            5</td><td style=\"text-align: right;\">          5</td><td style=\"text-align: right;\">         4</td><td style=\"text-align: right;\">              3</td><td style=\"text-align: right;\">          3</td><td style=\"text-align: right;\">          6</td><td style=\"text-align: right;\">             5</td><td style=\"text-align: right;\">          1</td><td style=\"text-align: right;\">             6</td><td style=\"text-align: right;\">               3</td><td style=\"text-align: right;\">                      5</td><td style=\"text-align: right;\">             5</td><td>5             </td><td>4                   </td><td style=\"text-align: right;\">     4</td><td style=\"text-align: right;\">           4</td><td style=\"text-align: right;\">              5</td><td style=\"text-align: right;\">            6</td><td style=\"text-align: right;\">         6</td><td style=\"text-align: right;\">                6</td></tr>\\n<tr><td style=\"text-align: right;\">    4</td><td style=\"text-align: right;\">    25</td><td>Incoming First-year Student</td><td>Yes - BA    </td><td>Computer Science</td><td>No            </td><td>MATH 130                    </td><td>None to less than one month!</td><td>               </td><td>      </td><td>                                </td><td>                            </td><td>                        </td><td>0 to 2 hours         </td><td>3 to 5 hours       </td><td style=\"text-align: right;\">            7</td><td style=\"text-align: right;\">          3</td><td style=\"text-align: right;\">         3</td><td style=\"text-align: right;\">              3</td><td style=\"text-align: right;\">          2</td><td style=\"text-align: right;\">          6</td><td style=\"text-align: right;\">             3</td><td style=\"text-align: right;\">          5</td><td style=\"text-align: right;\">             6</td><td style=\"text-align: right;\">               6</td><td style=\"text-align: right;\">                      6</td><td style=\"text-align: right;\">             6</td><td>7             </td><td>3                   </td><td style=\"text-align: right;\">     6</td><td style=\"text-align: right;\">           5</td><td style=\"text-align: right;\">              5</td><td style=\"text-align: right;\">            6</td><td style=\"text-align: right;\">         6</td><td style=\"text-align: right;\">                7</td></tr>\\n</tbody>\\n</table>'"
      ]
     },
     "execution_count": 20,
     "metadata": {},
     "output_type": "execute_result"
    }
   ],
   "source": [
    "data_cols_head: dict[str, list[str]] = head(data_cols, 5)\n",
    "\n",
    "\n",
    "tabulate(data_cols_head, data_cols_head.keys(), \"html\")"
   ]
  },
  {
   "cell_type": "markdown",
   "metadata": {},
   "source": [
    "We have our table columnized now, so to pull data from the just questions surrounding understanding and prior experiences, we use the function `select` "
   ]
  },
  {
   "cell_type": "code",
   "execution_count": 21,
   "metadata": {},
   "outputs": [
    {
     "data": {
      "text/html": [
       "<table>\n",
       "<thead>\n",
       "<tr><th>prior_exp                   </th><th style=\"text-align: right;\">  understanding</th></tr>\n",
       "</thead>\n",
       "<tbody>\n",
       "<tr><td>7-12 months                 </td><td style=\"text-align: right;\">              7</td></tr>\n",
       "<tr><td>None to less than one month!</td><td style=\"text-align: right;\">              3</td></tr>\n",
       "<tr><td>None to less than one month!</td><td style=\"text-align: right;\">              6</td></tr>\n",
       "<tr><td>2-6 months                  </td><td style=\"text-align: right;\">              5</td></tr>\n",
       "<tr><td>None to less than one month!</td><td style=\"text-align: right;\">              5</td></tr>\n",
       "<tr><td>2-6 months                  </td><td style=\"text-align: right;\">              6</td></tr>\n",
       "<tr><td>2-6 months                  </td><td style=\"text-align: right;\">              6</td></tr>\n",
       "<tr><td>None to less than one month!</td><td style=\"text-align: right;\">              7</td></tr>\n",
       "<tr><td>None to less than one month!</td><td style=\"text-align: right;\">              6</td></tr>\n",
       "<tr><td>None to less than one month!</td><td style=\"text-align: right;\">              6</td></tr>\n",
       "</tbody>\n",
       "</table>"
      ],
      "text/plain": [
       "'<table>\\n<thead>\\n<tr><th>prior_exp                   </th><th style=\"text-align: right;\">  understanding</th></tr>\\n</thead>\\n<tbody>\\n<tr><td>7-12 months                 </td><td style=\"text-align: right;\">              7</td></tr>\\n<tr><td>None to less than one month!</td><td style=\"text-align: right;\">              3</td></tr>\\n<tr><td>None to less than one month!</td><td style=\"text-align: right;\">              6</td></tr>\\n<tr><td>2-6 months                  </td><td style=\"text-align: right;\">              5</td></tr>\\n<tr><td>None to less than one month!</td><td style=\"text-align: right;\">              5</td></tr>\\n<tr><td>2-6 months                  </td><td style=\"text-align: right;\">              6</td></tr>\\n<tr><td>2-6 months                  </td><td style=\"text-align: right;\">              6</td></tr>\\n<tr><td>None to less than one month!</td><td style=\"text-align: right;\">              7</td></tr>\\n<tr><td>None to less than one month!</td><td style=\"text-align: right;\">              6</td></tr>\\n<tr><td>None to less than one month!</td><td style=\"text-align: right;\">              6</td></tr>\\n</tbody>\\n</table>'"
      ]
     },
     "execution_count": 21,
     "metadata": {},
     "output_type": "execute_result"
    }
   ],
   "source": [
    "selected_data: dict[str, list[str]] = select(data_cols, [\"prior_exp\", \"understanding\"])\n",
    "\n",
    "tabulate(head(selected_data, 10), selected_data.keys(), \"html\")"
   ]
  },
  {
   "cell_type": "markdown",
   "metadata": {},
   "source": [
    "Now, we use the `count` function to assess how many times a choice was selected for each question regarding both prior experience and understanding of the course. "
   ]
  },
  {
   "cell_type": "code",
   "execution_count": 22,
   "metadata": {},
   "outputs": [
    {
     "name": "stdout",
     "output_type": "stream",
     "text": [
      "prior_exp_counts: {'7-12 months': 59, 'None to less than one month!': 369, '2-6 months': 142, '1-2 years': 31, 'Over 2 years': 19}\n",
      "understanding_counts: {'7': 74, '3': 68, '6': 182, '5': 172, '4': 82, '2': 28, '1': 14}\n"
     ]
    }
   ],
   "source": [
    "prior_exp_counts: dict[str, int] = count(selected_data[\"prior_exp\"])\n",
    "print(f\"prior_exp_counts: {prior_exp_counts}\")\n",
    "\n",
    "understanding_counts: dict[str, int] = count(selected_data[\"understanding\"])\n",
    "print(f\"understanding_counts: {understanding_counts}\")\n"
   ]
  },
  {
   "cell_type": "markdown",
   "metadata": {},
   "source": [
    "By using the `filter` function and the `mask` function, we are able to create a new dictionary that assigns the count of however many people responded to understanding (1-7) and tie it to an answer from prior experience (none, 2-6 months, 2+ years etc.). \n",
    "\n",
    "For example, the outcome of using the filter and mask function would take everyone who replied with none for experience and give their responses to the question of understanding (1-7). The filter appends a boolian True/False to those who responded with None for experience, and the mask function takes the all the appended true students as well as their understanding and makes a dictionary.\n",
    "\n",
    "    eg.) {none: [7,5,3,4...]}"
   ]
  },
  {
   "cell_type": "code",
   "execution_count": 23,
   "metadata": {},
   "outputs": [
    {
     "name": "stdout",
     "output_type": "stream",
     "text": [
      "{'None to less than one month!': ['3', '6', '5', '7', '6', '6', '4', '5', '2', '3', '6', '5', '5', '5', '4', '4', '3', '6', '5', '5', '6', '3', '5', '4', '5', '5', '5', '6', '7', '3', '3', '6', '4', '6', '6', '5', '5', '5', '4', '5', '7', '5', '6', '2', '5', '4', '4', '3', '3', '4', '6', '5', '5', '7', '5', '3', '2', '4', '1', '5', '6', '5', '5', '6', '4', '5', '3', '6', '2', '5', '4', '6', '5', '6', '1', '5', '5', '5', '5', '5', '3', '5', '2', '5', '4', '3', '6', '5', '5', '4', '5', '5', '4', '4', '6', '5', '3', '3', '3', '4', '3', '3', '3', '6', '5', '3', '4', '1', '3', '5', '6', '3', '7', '4', '3', '7', '6', '6', '5', '6', '4', '6', '5', '5', '5', '1', '5', '6', '5', '3', '4', '7', '1', '5', '6', '5', '3', '2', '6', '5', '5', '7', '6', '5', '5', '6', '3', '3', '6', '3', '4', '6', '6', '5', '7', '5', '4', '6', '5', '2', '2', '3', '5', '5', '2', '6', '2', '5', '4', '6', '4', '4', '3', '5', '5', '7', '3', '4', '5', '3', '6', '6', '3', '6', '6', '6', '3', '4', '5', '6', '5', '7', '2', '5', '2', '3', '5', '5', '4', '6', '2', '2', '2', '6', '6', '6', '5', '3', '5', '5', '4', '5', '6', '5', '1', '2', '5', '6', '5', '4', '3', '6', '6', '6', '6', '4', '6', '2', '6', '5', '5', '2', '3', '3', '6', '4', '5', '4', '3', '6', '1', '5', '3', '4', '6', '7', '3', '4', '5', '6', '4', '6', '4', '3', '5', '3', '6', '5', '2', '4', '4', '3', '5', '5', '3', '4', '3', '3', '3', '5', '7', '6', '5', '5', '6', '6', '5', '4', '5', '5', '3', '6', '3', '4', '5', '4', '4', '5', '5', '4', '6', '5', '1', '6', '1', '6', '2', '4', '6', '6', '5', '5', '4', '5', '5', '5', '2', '5', '6', '1', '6', '4', '3', '7', '3', '4', '6', '1', '7', '5', '5', '5', '2', '4', '4', '6', '3', '6', '3', '6', '6', '5', '4', '1', '5', '6', '5', '5', '3', '2', '4', '5', '5', '6', '4', '4', '1', '6', '7', '5', '6', '5', '5', '6', '4', '2', '5', '6', '5', '2', '5', '5', '5', '5', '4', '5', '6', '5', '4'], '2-6 months': ['5', '6', '6', '7', '5', '7', '3', '5', '2', '7', '6', '6', '7', '4', '6', '5', '5', '5', '5', '6', '6', '4', '3', '3', '5', '6', '5', '5', '6', '3', '6', '5', '6', '6', '7', '6', '6', '7', '4', '6', '1', '6', '6', '4', '3', '5', '6', '6', '4', '4', '6', '7', '4', '6', '5', '6', '6', '5', '5', '6', '6', '5', '5', '6', '4', '5', '6', '7', '7', '4', '5', '5', '5', '6', '4', '6', '4', '4', '5', '7', '5', '6', '5', '3', '6', '7', '6', '7', '5', '7', '6', '6', '7', '3', '6', '6', '6', '4', '4', '5', '4', '6', '5', '5', '5', '4', '6', '6', '3', '7', '6', '2', '6', '7', '7', '7', '5', '7', '7', '3', '4', '6', '6', '5', '3', '6', '4', '3', '6', '3', '6', '7', '5', '4', '5', '5', '4', '6', '5', '2', '7', '5'], '7-12 months': ['7', '6', '5', '4', '6', '6', '5', '7', '6', '5', '5', '6', '7', '5', '6', '6', '6', '6', '5', '7', '7', '6', '6', '7', '6', '4', '5', '6', '6', '6', '6', '6', '7', '6', '6', '7', '6', '6', '5', '6', '7', '6', '3', '6', '6', '6', '6', '7', '5', '6', '4', '7', '7', '6', '6', '7', '6', '7', '6'], '1-2 years': ['6', '5', '6', '6', '7', '7', '5', '6', '7', '5', '6', '7', '6', '5', '6', '7', '7', '5', '6', '6', '5', '6', '7', '7', '7', '5', '7', '5', '7', '7', '7'], 'Over 2 years': ['7', '6', '7', '6', '7', '6', '7', '6', '6', '7', '6', '7', '6', '7', '5', '7', '7', '6', '6']}\n"
     ]
    }
   ],
   "source": [
    "final: dict[str,list[str]] = {}\n",
    "\n",
    "b: list[bool] = filter(selected_data[\"prior_exp\"], \"None to less than one month!\")\n",
    "final[\"None to less than one month!\"] = mask(selected_data[\"understanding\"], b) \n",
    "\n",
    "b: list[bool] = filter(selected_data[\"prior_exp\"], \"2-6 months\")\n",
    "final[\"2-6 months\"] = mask(selected_data[\"understanding\"], b)\n",
    "\n",
    "b: list[bool] = filter(selected_data[\"prior_exp\"], \"7-12 months\")\n",
    "final[\"7-12 months\"] = mask(selected_data[\"understanding\"], b)\n",
    "\n",
    "b: list[bool] = filter(selected_data[\"prior_exp\"], \"1-2 years\")\n",
    "final[\"1-2 years\"] = mask(selected_data[\"understanding\"], b)\n",
    "\n",
    "b: list[bool] = filter(selected_data[\"prior_exp\"], \"Over 2 years\")\n",
    "final[\"Over 2 years\"] = mask(selected_data[\"understanding\"], b)\n"
   ]
  },
  {
   "cell_type": "markdown",
   "metadata": {},
   "source": [
    "In order to find the correlation between understanding and prior_experience, we must find the average understanding of each level of experience, and see if those who have little experience also have low understanding. To do this we use the `mean` function to find the average understanding, as well as store these values at each prior experience."
   ]
  },
  {
   "cell_type": "code",
   "execution_count": 24,
   "metadata": {},
   "outputs": [
    {
     "name": "stdout",
     "output_type": "stream",
     "text": [
      "{'None to less than one month!': 4.509485094850948, '2-6 months': 5.246478873239437, '7-12 months': 5.932203389830509, '1-2 years': 6.161290322580645, 'Over 2 years': 6.421052631578948}\n"
     ]
    }
   ],
   "source": [
    "avg_understanding: dict[str, float]\n",
    "\n",
    "avg_understanding = mean(final) \n",
    "\n",
    "print(avg_understanding)"
   ]
  },
  {
   "cell_type": "markdown",
   "metadata": {},
   "source": [
    "We have our data, so let's make a graph and visualize our results!"
   ]
  },
  {
   "cell_type": "code",
   "execution_count": 25,
   "metadata": {},
   "outputs": [
    {
     "name": "stdout",
     "output_type": "stream",
     "text": [
      "['7-12 months', 'None to less than one month!', '2-6 months', '1-2 years', 'Over 2 years']\n"
     ]
    },
    {
     "data": {
      "image/png": "[encoded data removed]",
      "text/plain": [
       "<Figure size 864x360 with 3 Axes>"
      ]
     },
     "metadata": {
      "needs_background": "light"
     },
     "output_type": "display_data"
    }
   ],
   "source": [
    "\n",
    "fig, axes = plt.subplots(1, 3, figsize=(12, 5), sharey=False)\n",
    "fig.suptitle(\"Prior Coding Experience of Students in Comp110 compared to Student Overall Understanding\")\n",
    "sorted_dict = dict(sorted(understanding_counts.items()))\n",
    "\n",
    "axes[0].set_title(\"Prior Experience\")\n",
    "\n",
    "prior_exp_keys_sorted = list(prior_exp_counts.keys())\n",
    "print(prior_exp_keys_sorted)\n",
    "prior_exp_values_sorted = list(prior_exp_counts.values())\n",
    "\n",
    "temp = prior_exp_keys_sorted[0]\n",
    "prior_exp_keys_sorted[0] = prior_exp_keys_sorted[1] \n",
    "prior_exp_keys_sorted[1] = temp\n",
    "temp_val = prior_exp_values_sorted[0]\n",
    "prior_exp_values_sorted[0] = prior_exp_values_sorted[1]\n",
    "prior_exp_values_sorted[1] = temp_val\n",
    "\n",
    "temp_2 = prior_exp_keys_sorted[1]\n",
    "prior_exp_keys_sorted[1] = prior_exp_keys_sorted[2]\n",
    "prior_exp_keys_sorted[2] = temp_2\n",
    "temp_val_2 = prior_exp_values_sorted[1]\n",
    "prior_exp_values_sorted[1] = prior_exp_values_sorted[2]\n",
    "prior_exp_values_sorted[2] = temp_val_2\n",
    "\n",
    "\n",
    "axes[0].bar(prior_exp_keys_sorted, prior_exp_values_sorted)\n",
    "axes[0].tick_params(axis='x', labelrotation = 85)\n",
    "\n",
    "\n",
    "axes[1].set_title(\"Student Understanding\")\n",
    "axes[1].bar(sorted_dict.keys(), sorted_dict.values())\n",
    "\n",
    "axes[2].set_title(\"Avg Understanding vs Prior Experience\")\n",
    "axes[2].bar(avg_understanding.keys(), avg_understanding.values())\n",
    "axes[2].tick_params(axis='x', labelrotation = 80)\n"
   ]
  },
  {
   "cell_type": "markdown",
   "metadata": {},
   "source": [
    "## Conclusion\n",
    "\n",
    "In the following markdown cell, write a reflective conclusion given the analysis you performed and identify recommendations.\n",
    "\n",
    "If your analysis of the data supports your idea, state your recommendation for the change and summarize the data analysys results you found which support it. Additionally, describe any extensions or refinements to this idea which might be explored further. Finally, discuss the potential costs, trade-offs, or stakeholders who may be negatively impacted by this proposed change.\n",
    "\n",
    "If your analysis of the data is inconclusive, summarize why your data analysis results were inconclusive in the support of your idea. Additionally, describe what experimental idea implementation or additional data collection might help build more confidence in assessing your idea. Finally, discuss the potential costs, trade-offs, or stakeholders who may be negatively impacted by experimenting with your idea.\n",
    "\n",
    "Finally, if your analysis of the data does not support it, summarize your data analysis results and why it refutes your idea. Discuss the potential costs, trade-offs, or stakeholders who may be negatively impacted by this proposed change. If you disagree with the validity of the findings, describe why your idea still makes sense to implement and what alternative data would better support it. If you agree with the validity of the data analysis, describe what alternate ideas or extensions you would explore instead. "
   ]
  },
  {
   "cell_type": "markdown",
   "metadata": {},
   "source": [
    "### Part 5. Conclusion\n",
    "\n"
   ]
  },
  {
   "cell_type": "markdown",
   "metadata": {},
   "source": [
    "As seen from the graphs, and data, students who have had none to less than a month of coding experience prior to taking the course have a lower understanding compared to those who have had more experience. The average of understanding of those who have had little experience is approximately 4.5, which is slightly higher than what I expected. My hypotheis was proved true in that students with little experience would have a lower understanding. I still believe the course should provide more coding practice assignments so students who have not coded prior can slowly grasp the basics and implement what they learn from the video lessons into their code. \n",
    "\n",
    "Assigning more mandatory assignments increases student workload and could cause them more stress and thus result in poorer performance in the class. However, by not making the work mandatory, there could be a chance that students are less motivated to attempt the practice assignments given. I propose providing resources and making a certain amount due before a quiz or make students do a certain number of assignments per month. This way workload is kept to a reasonable amount, but practice is still promoted, so students are motivated to attempt the assignments. These mandatory practice assignments could also act as a buffer grade to cushion student grades, if they don't do as well in testing environments. Financially, this new implementation would not cost much, unless coding practices are bought from another source. \n",
    "\n",
    "Another potential cost of implementing more practice for COMP110 students is that the UTAs might be overwhelmed with more work on top of creating the exercises and helping out in office hours. Division of UTA help could cause office hours to potentially be more flooded, however the point of giving students more practice is so they would understand it more, and come to office hours less, as they understand the course content. Nevertheless, this is an important consequence to note. \n",
    "\n",
    "The maximum score of understanding in the survey was 7, and the average understanding of students who had put their experiences of none to less than a month was that of 4.5, which is fairly high for those who have had little prior experience. However, to boost understanding in this class so it could be higher, the course should provide more coding exercises because it would provide more resources and practice for students who don't understand course material, as well as how to code as well due to not having any prior experience. To combat the abrupt exposure to coding, making a certain amount of practice assignments due could slowly allow students to familiarize themselves with the python language, moreover, continual practice will also allow students to retain what they learn from class and video lessons. "
   ]
  }
 ],
 "metadata": {
  "interpreter": {
   "hash": "aee8b7b246df8f9039afb4144a1f6fd8d2ca17a180786b69acc140d282b71a49"
  },
  "kernelspec": {
   "display_name": "Python 3.10.2 64-bit",
   "language": "python",
   "name": "python3"
  },
  "language_info": {
   "codemirror_mode": {
    "name": "ipython",
    "version": 3
   },
   "file_extension": ".py",
   "mimetype": "text/x-python",
   "name": "python",
   "nbconvert_exporter": "python",
   "pygments_lexer": "ipython3",
   "version": "3.10.2"
  },
  "orig_nbformat": 4
 },
 "nbformat": 4,
 "nbformat_minor": 2
}
